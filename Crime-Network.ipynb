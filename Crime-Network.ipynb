{
 "cells": [
  {
   "cell_type": "code",
   "execution_count": 1,
   "metadata": {},
   "outputs": [],
   "source": [
    "import pandas as pd\n",
    "import networkx as nx"
   ]
  },
  {
   "cell_type": "code",
   "execution_count": 2,
   "metadata": {},
   "outputs": [],
   "source": [
    "# Reading the nodes and edges data\n",
    "nodes_df = pd.read_csv('nodes.csv')\n",
    "edges_df = pd.read_csv('edges.csv')"
   ]
  },
  {
   "cell_type": "code",
   "execution_count": 3,
   "metadata": {},
   "outputs": [],
   "source": [
    "# Creating a bipartite graph\n",
    "G = nx.Graph()\n",
    "\n",
    "# Adding nodes\n",
    "# Assuming the ' meta' column distinguishes between two types of nodes\n",
    "# Note the leading space in ' meta'\n",
    "for idx, row in nodes_df.iterrows():\n",
    "    G.add_node(row['# index'], type=row[' meta'])\n",
    "\n",
    "# Adding edges\n",
    "# Correcting the column name for ' target' with a leading space\n",
    "for idx, row in edges_df.iterrows():\n",
    "    G.add_edge(row['# source'], row[' target'])"
   ]
  },
  {
   "cell_type": "code",
   "execution_count": 4,
   "metadata": {},
   "outputs": [
    {
     "name": "stdout",
     "output_type": "stream",
     "text": [
      "Number of nodes: 1380\n",
      "Number of edges: 1476\n"
     ]
    }
   ],
   "source": [
    "# Basic information about the graph\n",
    "num_nodes = G.number_of_nodes()\n",
    "num_edges = G.number_of_edges()\n",
    "\n",
    "print(f\"Number of nodes: {num_nodes}\")\n",
    "print(f\"Number of edges: {num_edges}\")"
   ]
  },
  {
   "cell_type": "code",
   "execution_count": null,
   "metadata": {},
   "outputs": [],
   "source": []
  }
 ],
 "metadata": {
  "kernelspec": {
   "display_name": "Python 3",
   "language": "python",
   "name": "python3"
  },
  "language_info": {
   "codemirror_mode": {
    "name": "ipython",
    "version": 3
   },
   "file_extension": ".py",
   "mimetype": "text/x-python",
   "name": "python",
   "nbconvert_exporter": "python",
   "pygments_lexer": "ipython3",
   "version": "3.10.9"
  }
 },
 "nbformat": 4,
 "nbformat_minor": 2
}
