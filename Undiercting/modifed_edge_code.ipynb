{
 "cells": [
  {
   "cell_type": "code",
   "execution_count": 1,
   "metadata": {},
   "outputs": [
    {
     "name": "stdout",
     "output_type": "stream",
     "text": [
      "Mean weight: 3124.0674207338798\n",
      "Mean weight: 2759.10402565016\n",
      "Mean weight: 3200.539989312433\n",
      "Mean weight: 3692.077841111507\n",
      "Mean weight: 2743.3322052012827\n"
     ]
    }
   ],
   "source": [
    "import matplotlib.pyplot as plt\n",
    "import matplotlib.colors as mcolors\n",
    "import networkx as nx\n",
    "import numpy as np\n",
    "import pandas as pd\n",
    "\n",
    "# Load the CSV file into a DataFrame\n",
    "nodes_df = pd.read_csv('nodes.csv')\n",
    "# Load the edges.csv file into a DataFrame\n",
    "edges_df = pd.read_csv('edges_flows.csv')\n",
    "\n",
    "def create_graph(nodes_df, edges_df, migration_year):\n",
    "    graph = nx.DiGraph()\n",
    "\n",
    "    # Add nodes\n",
    "    for index, row in nodes_df.iterrows():\n",
    "        graph.add_node(row['Label'], name=row['Abb'])\n",
    "\n",
    "    # Add edges with weights and attributes for the specific year\n",
    "    for index, row in edges_df.iterrows():\n",
    "        source = row['source']\n",
    "        target = row['target']\n",
    "        weight = row[migration_year]\n",
    "        if weight != 0:\n",
    "            female_ratio = row[migration_year.replace('total', 'female')] / weight\n",
    "        else:\n",
    "            female_ratio = 0\n",
    "        graph.add_edge(source, target, weight=weight, female_ratio=female_ratio)\n",
    "\n",
    "    # Clean up the graph (removing low weight edges and isolated nodes)\n",
    "    mean_weight = np.mean([d['weight'] for _, _, d in graph.edges(data=True)])\n",
    "    print(f'Mean weight: {mean_weight}')\n",
    "    remove_low_weight_edges(graph, mean_weight)\n",
    "    remove_isolated_nodes(graph)\n",
    "    return graph\n",
    "\n",
    "def visualize_graph(graph, nodes_df, title):\n",
    "    node_sizes = [graph.degree(n, weight='weight')/5000 for n in graph.nodes()]\n",
    "    edge_weights = [d['weight'] / 100000 for _, _, d in graph.edges(data=True)]\n",
    "\n",
    "    # Position, size, and labels\n",
    "    node_positions = {row['Label']: (row['lng'], row['lat']) for index, row in nodes_df.iterrows() if row['Label'] in graph.nodes}\n",
    "    labels = get_high_degree_labels(graph, nodes_df)\n",
    "\n",
    "    # Edge colors based on female ratio\n",
    "    female_ratios = np.array([d['female_ratio'] for _, _, d in graph.edges(data=True)])\n",
    "    norm = mcolors.Normalize(vmin=female_ratios.min(), vmax=female_ratios.max())\n",
    "    cmap = plt.get_cmap('magma')\n",
    "    edge_colors = [cmap(norm(d['female_ratio'])) for _, _, d in graph.edges(data=True)]\n",
    "\n",
    "    # Visualization\n",
    "    plt.figure(figsize=(15, 10))\n",
    "    nx.draw_networkx_nodes(graph, node_positions, node_size=node_sizes, node_color='red', alpha=0.7)\n",
    "    nx.draw_networkx_edges(graph, node_positions, width=edge_weights, alpha=0.5, edge_color=edge_colors)\n",
    "    nx.draw_networkx_labels(graph, node_positions, labels=labels, font_size=12)\n",
    "    plt.title(title)\n",
    "    plt.colorbar(plt.cm.ScalarMappable(norm=norm, cmap=cmap), ax=plt.gca(), orientation='vertical', label='Female Ratio')\n",
    "    plt.show()\n",
    "\n",
    "def remove_low_weight_edges(graph, threshold):\n",
    "    edges_to_remove = [(u, v) for u, v, d in graph.edges(data=True) if d['weight'] < threshold]\n",
    "    graph.remove_edges_from(edges_to_remove)\n",
    "\n",
    "def remove_isolated_nodes(graph):\n",
    "    nodes_to_remove = [n for n in graph.nodes() if graph.degree(n) == 0]\n",
    "    graph.remove_nodes_from(nodes_to_remove)\n",
    "\n",
    "def get_high_degree_labels(graph, nodes_df):\n",
    "    return {n: data['Abb'] for n, data in nodes_df.set_index('Label').iterrows() \n",
    "            if n in graph.nodes() and (graph.degree(n, weight='weight') > 500000 )}\n",
    "\n",
    "# Main execution loop for each migration year\n",
    "migration_years = [ 'migration_1995_total', 'migration_2000_total', 'migration_2005_total', 'migration_2010_total', 'migration_2015_total']\n",
    "graphs =[]\n",
    "for year in migration_years:\n",
    "    # Create a separate graph for each year and store it in a dictionary\n",
    "    graph = create_graph(nodes_df, edges_df, year)\n",
    "    # Visualize the graph\n",
    "    # visualize_graph(graph, nodes_df, year)\n",
    "    graphs.append(graph)"
   ]
  },
  {
   "cell_type": "code",
   "execution_count": 2,
   "metadata": {},
   "outputs": [],
   "source": [
    "# Converting the graphs to undirected graphs\n",
    "undirected_graphs = []\n",
    "for graph in graphs:\n",
    "    undirected_graphs.append(graph.to_undirected())"
   ]
  }
 ],
 "metadata": {
  "kernelspec": {
   "display_name": "Python 3",
   "language": "python",
   "name": "python3"
  },
  "language_info": {
   "codemirror_mode": {
    "name": "ipython",
    "version": 3
   },
   "file_extension": ".py",
   "mimetype": "text/x-python",
   "name": "python",
   "nbconvert_exporter": "python",
   "pygments_lexer": "ipython3",
   "version": "3.10.9"
  }
 },
 "nbformat": 4,
 "nbformat_minor": 2
}
