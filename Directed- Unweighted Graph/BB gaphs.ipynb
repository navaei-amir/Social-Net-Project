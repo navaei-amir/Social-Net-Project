{
 "cells": [
  {
   "cell_type": "code",
   "execution_count": 1,
   "metadata": {},
   "outputs": [
    {
     "name": "stdout",
     "output_type": "stream",
     "text": [
      "Mean weight: 3124.0674207338798\n",
      "Mean weight: 2759.10402565016\n",
      "Mean weight: 3200.539989312433\n",
      "Mean weight: 3692.077841111507\n",
      "Mean weight: 2743.3322052012827\n"
     ]
    }
   ],
   "source": [
    "import matplotlib.pyplot as plt\n",
    "import matplotlib.colors as mcolors\n",
    "import networkx as nx\n",
    "import numpy as np\n",
    "import pandas as pd\n",
    "\n",
    "# Load the CSV file into a DataFrame\n",
    "nodes_df = pd.read_csv('nodes.csv')\n",
    "# Load the edges.csv file into a DataFrame\n",
    "edges_df = pd.read_csv('edges_flows.csv')\n",
    "\n",
    "def create_graph(nodes_df, edges_df, migration_year):\n",
    "    graph = nx.DiGraph()\n",
    "\n",
    "    # Add nodes\n",
    "    for index, row in nodes_df.iterrows():\n",
    "        graph.add_node(row['Label'], name=row['Abb'])\n",
    "\n",
    "    # Add edges with weights and attributes for the specific year\n",
    "    for index, row in edges_df.iterrows():\n",
    "        source = row['source']\n",
    "        target = row['target']\n",
    "        weight = row[migration_year]\n",
    "        if weight != 0:\n",
    "            female_ratio = row[migration_year.replace('total', 'female')] / weight\n",
    "        else:\n",
    "            female_ratio = 0\n",
    "        graph.add_edge(source, target, weight=weight, female_ratio=female_ratio)\n",
    "\n",
    "    # Clean up the graph (removing low weight edges and isolated nodes)\n",
    "    mean_weight = np.mean([d['weight'] for _, _, d in graph.edges(data=True)])\n",
    "    print(f'Mean weight: {mean_weight}')\n",
    "    # remove_low_weight_edges(graph, mean_weight)\n",
    "    # remove_isolated_nodes(graph)\n",
    "    return graph\n",
    "\n",
    "def visualize_graph(graph, nodes_df, title):\n",
    "    node_sizes = [graph.degree(n, weight='weight')/5000 for n in graph.nodes()]\n",
    "    edge_weights = [d['weight'] / 100000 for _, _, d in graph.edges(data=True)]\n",
    "\n",
    "    # Position, size, and labels\n",
    "    node_positions = {row['Label']: (row['lng'], row['lat']) for index, row in nodes_df.iterrows() if row['Label'] in graph.nodes}\n",
    "    labels = get_high_degree_labels(graph, nodes_df, 100000)\n",
    "\n",
    "    # Edge colors based on female ratio\n",
    "    female_ratios = np.array([d['female_ratio'] for _, _, d in graph.edges(data=True)])\n",
    "    norm = mcolors.Normalize(vmin=female_ratios.min(), vmax=female_ratios.max())\n",
    "    cmap = plt.get_cmap('magma')\n",
    "    edge_colors = [cmap(norm(d['female_ratio'])) for _, _, d in graph.edges(data=True)]\n",
    "\n",
    "    # Visualization\n",
    "    plt.figure(figsize=(15, 10))\n",
    "    nx.draw_networkx_nodes(graph, node_positions, node_size=node_sizes, node_color='red', alpha=0.7)\n",
    "    nx.draw_networkx_edges(graph, node_positions, width=edge_weights, alpha=0.5, edge_color=edge_colors)\n",
    "    nx.draw_networkx_labels(graph, node_positions, labels=labels, font_size=12)\n",
    "    plt.title(title)\n",
    "    plt.colorbar(plt.cm.ScalarMappable(norm=norm, cmap=cmap), ax=plt.gca(), orientation='vertical', label='Female Ratio')\n",
    "    plt.show()\n",
    "\n",
    "def remove_low_weight_edges(graph, threshold):\n",
    "    edges_to_remove = [(u, v) for u, v, d in graph.edges(data=True) if d['weight'] < threshold]\n",
    "    graph.remove_edges_from(edges_to_remove)\n",
    "\n",
    "def remove_isolated_nodes(graph):\n",
    "    nodes_to_remove = [n for n in graph.nodes() if graph.degree(n) == 0]\n",
    "    graph.remove_nodes_from(nodes_to_remove)\n",
    "\n",
    "def get_high_degree_labels(graph, nodes_df, threshold=100000):\n",
    "    return {n: data['Abb'] for n, data in nodes_df.set_index('Label').iterrows() \n",
    "            if n in graph.nodes() and (graph.degree(n, weight='weight') > threshold )}\n",
    "\n",
    "# Main execution loop for each migration year\n",
    "migration_years = [ 'migration_1995_total', 'migration_2000_total', 'migration_2005_total', 'migration_2010_total', 'migration_2015_total']\n",
    "graphs =[]\n",
    "for year in migration_years:\n",
    "    # Create a separate graph for each year and store it in a dictionary\n",
    "    graph = create_graph(nodes_df, edges_df, year)\n",
    "    # Visualize the graph\n",
    "    # visualize_graph(graph, nodes_df, year)\n",
    "    graphs.append(graph)"
   ]
  },
  {
   "cell_type": "markdown",
   "metadata": {},
   "source": [
    "### Extracting BB networks using the disparity filter"
   ]
  },
  {
   "cell_type": "code",
   "execution_count": 2,
   "metadata": {},
   "outputs": [],
   "source": [
    "from scipy import integrate\n",
    "\n",
    "\n",
    "def disparity_filter(G, alpha=0.05):\n",
    "    # Create an empty graph for the backbone\n",
    "    B = nx.Graph()\n",
    "\n",
    "    for node in G.nodes(data=True):\n",
    "        node_id = node[0]  # Node identifier\n",
    "        node_attr = node[1]  # Node attributes\n",
    "\n",
    "        # Add the node to the backbone graph with its attributes\n",
    "        B.add_node(node_id, **node_attr)\n",
    "\n",
    "        # Calculate the total weight (strength) of the node\n",
    "        s = sum([G[node_id][neighbor]['weight'] for neighbor in G.neighbors(node_id)])\n",
    "        k = G.degree(node_id)\n",
    "\n",
    "        for neighbor in G.neighbors(node_id):\n",
    "            weight = G[node_id][neighbor]['weight']\n",
    "            p_ij = weight / s\n",
    "\n",
    "            # Calculate the disparity measure\n",
    "            alpha_ij = 1 - (k - 1) * integrate.quad(lambda x: (1 - x)**(k - 2), 0, p_ij)[0]\n",
    "\n",
    "            # Add edge to the backbone if significant, with its attributes\n",
    "            if alpha_ij < alpha:\n",
    "                edge_attr = G[node_id][neighbor]\n",
    "                B.add_edge(node_id, neighbor, **edge_attr)\n",
    "\n",
    "    return B"
   ]
  },
  {
   "cell_type": "code",
   "execution_count": 3,
   "metadata": {},
   "outputs": [],
   "source": [
    "# Select alpha value\n",
    "alpha = 0.001\n",
    "\n",
    "# Extracting the backbone network for each graph in the list 'graphs'\n",
    "backbone_graphs = [disparity_filter(graph, alpha) for graph in graphs]"
   ]
  },
  {
   "cell_type": "code",
   "execution_count": 4,
   "metadata": {},
   "outputs": [],
   "source": [
    "# removing the isolated nodes  \n",
    "for graph in backbone_graphs:\n",
    "    remove_isolated_nodes(graph)"
   ]
  },
  {
   "cell_type": "markdown",
   "metadata": {},
   "source": [
    "### Directed BB graphs without weights"
   ]
  },
  {
   "cell_type": "code",
   "execution_count": 5,
   "metadata": {},
   "outputs": [],
   "source": [
    "# adding the directionality to the backbone network from the original graph\n",
    "directed_backbone_graphs = []\n",
    "\n",
    "for graph, backbone_graph in zip(graphs, backbone_graphs):\n",
    "    directed_backbone_graph = nx.DiGraph()\n",
    "    for node in backbone_graph.nodes(data=True):\n",
    "        node_id = node[0]\n",
    "        node_attr = node[1]\n",
    "        directed_backbone_graph.add_node(node_id, **node_attr)\n",
    "\n",
    "    for edge in backbone_graph.edges(data=True):\n",
    "        source = edge[0]\n",
    "        target = edge[1]\n",
    "        directed_backbone_graph.add_edge(source, target)\n",
    "    directed_backbone_graphs.append(directed_backbone_graph)"
   ]
  },
  {
   "cell_type": "code",
   "execution_count": 8,
   "metadata": {},
   "outputs": [
    {
     "ename": "TypeError",
     "evalue": "Bad graph type, use only non directed graph",
     "output_type": "error",
     "traceback": [
      "\u001b[1;31m---------------------------------------------------------------------------\u001b[0m",
      "\u001b[1;31mTypeError\u001b[0m                                 Traceback (most recent call last)",
      "\u001b[1;32mc:\\Users\\PA\\Documents\\Austria\\CEU\\3rd Semester\\Social Networks\\Project\\Social-Net-Project\\Directed- Unweighted Graph\\BB gaphs.ipynb Cell 8\u001b[0m line \u001b[0;36m6\n\u001b[0;32m      <a href='vscode-notebook-cell:/c%3A/Users/PA/Documents/Austria/CEU/3rd%20Semester/Social%20Networks/Project/Social-Net-Project/Directed-%20Unweighted%20Graph/BB%20gaphs.ipynb#X12sZmlsZQ%3D%3D?line=2'>3</a>\u001b[0m community_assignments \u001b[39m=\u001b[39m []\n\u001b[0;32m      <a href='vscode-notebook-cell:/c%3A/Users/PA/Documents/Austria/CEU/3rd%20Semester/Social%20Networks/Project/Social-Net-Project/Directed-%20Unweighted%20Graph/BB%20gaphs.ipynb#X12sZmlsZQ%3D%3D?line=4'>5</a>\u001b[0m \u001b[39mfor\u001b[39;00m graph \u001b[39min\u001b[39;00m directed_backbone_graphs:\n\u001b[1;32m----> <a href='vscode-notebook-cell:/c%3A/Users/PA/Documents/Austria/CEU/3rd%20Semester/Social%20Networks/Project/Social-Net-Project/Directed-%20Unweighted%20Graph/BB%20gaphs.ipynb#X12sZmlsZQ%3D%3D?line=5'>6</a>\u001b[0m     partition \u001b[39m=\u001b[39m community_louvain\u001b[39m.\u001b[39;49mbest_partition(graph, weight\u001b[39m=\u001b[39;49m\u001b[39m'\u001b[39;49m\u001b[39mweight\u001b[39;49m\u001b[39m'\u001b[39;49m)\n\u001b[0;32m      <a href='vscode-notebook-cell:/c%3A/Users/PA/Documents/Austria/CEU/3rd%20Semester/Social%20Networks/Project/Social-Net-Project/Directed-%20Unweighted%20Graph/BB%20gaphs.ipynb#X12sZmlsZQ%3D%3D?line=6'>7</a>\u001b[0m     community_assignments\u001b[39m.\u001b[39mappend(partition)\n\u001b[0;32m      <a href='vscode-notebook-cell:/c%3A/Users/PA/Documents/Austria/CEU/3rd%20Semester/Social%20Networks/Project/Social-Net-Project/Directed-%20Unweighted%20Graph/BB%20gaphs.ipynb#X12sZmlsZQ%3D%3D?line=8'>9</a>\u001b[0m \u001b[39m# Now, for the first backbone graph, print the names of the nodes in each community\u001b[39;00m\n",
      "File \u001b[1;32mc:\\Users\\PA\\anaconda3\\lib\\site-packages\\community\\community_louvain.py:249\u001b[0m, in \u001b[0;36mbest_partition\u001b[1;34m(graph, partition, weight, resolution, randomize, random_state)\u001b[0m\n\u001b[0;32m    163\u001b[0m \u001b[39mdef\u001b[39;00m \u001b[39mbest_partition\u001b[39m(graph,\n\u001b[0;32m    164\u001b[0m                    partition\u001b[39m=\u001b[39m\u001b[39mNone\u001b[39;00m,\n\u001b[0;32m    165\u001b[0m                    weight\u001b[39m=\u001b[39m\u001b[39m'\u001b[39m\u001b[39mweight\u001b[39m\u001b[39m'\u001b[39m,\n\u001b[0;32m    166\u001b[0m                    resolution\u001b[39m=\u001b[39m\u001b[39m1.\u001b[39m,\n\u001b[0;32m    167\u001b[0m                    randomize\u001b[39m=\u001b[39m\u001b[39mNone\u001b[39;00m,\n\u001b[0;32m    168\u001b[0m                    random_state\u001b[39m=\u001b[39m\u001b[39mNone\u001b[39;00m):\n\u001b[0;32m    169\u001b[0m     \u001b[39m\"\"\"Compute the partition of the graph nodes which maximises the modularity\u001b[39;00m\n\u001b[0;32m    170\u001b[0m \u001b[39m    (or try..) using the Louvain heuristices\u001b[39;00m\n\u001b[0;32m    171\u001b[0m \n\u001b[1;32m   (...)\u001b[0m\n\u001b[0;32m    247\u001b[0m \u001b[39m    >>> plt.show()\u001b[39;00m\n\u001b[0;32m    248\u001b[0m \u001b[39m    \"\"\"\u001b[39;00m\n\u001b[1;32m--> 249\u001b[0m     dendo \u001b[39m=\u001b[39m generate_dendrogram(graph,\n\u001b[0;32m    250\u001b[0m                                 partition,\n\u001b[0;32m    251\u001b[0m                                 weight,\n\u001b[0;32m    252\u001b[0m                                 resolution,\n\u001b[0;32m    253\u001b[0m                                 randomize,\n\u001b[0;32m    254\u001b[0m                                 random_state)\n\u001b[0;32m    255\u001b[0m     \u001b[39mreturn\u001b[39;00m partition_at_level(dendo, \u001b[39mlen\u001b[39m(dendo) \u001b[39m-\u001b[39m \u001b[39m1\u001b[39m)\n",
      "File \u001b[1;32mc:\\Users\\PA\\anaconda3\\lib\\site-packages\\community\\community_louvain.py:322\u001b[0m, in \u001b[0;36mgenerate_dendrogram\u001b[1;34m(graph, part_init, weight, resolution, randomize, random_state)\u001b[0m\n\u001b[0;32m    264\u001b[0m \u001b[39m\"\"\"Find communities in the graph and return the associated dendrogram\u001b[39;00m\n\u001b[0;32m    265\u001b[0m \n\u001b[0;32m    266\u001b[0m \u001b[39mA dendrogram is a tree and each level is a partition of the graph nodes.\u001b[39;00m\n\u001b[1;32m   (...)\u001b[0m\n\u001b[0;32m    319\u001b[0m \u001b[39m:type weight:\u001b[39;00m\n\u001b[0;32m    320\u001b[0m \u001b[39m\"\"\"\u001b[39;00m\n\u001b[0;32m    321\u001b[0m \u001b[39mif\u001b[39;00m graph\u001b[39m.\u001b[39mis_directed():\n\u001b[1;32m--> 322\u001b[0m     \u001b[39mraise\u001b[39;00m \u001b[39mTypeError\u001b[39;00m(\u001b[39m\"\u001b[39m\u001b[39mBad graph type, use only non directed graph\u001b[39m\u001b[39m\"\u001b[39m)\n\u001b[0;32m    324\u001b[0m \u001b[39m# Properly handle random state, eventually remove old `randomize` parameter\u001b[39;00m\n\u001b[0;32m    325\u001b[0m \u001b[39m# NOTE: when `randomize` is removed, delete code up to random_state = ...\u001b[39;00m\n\u001b[0;32m    326\u001b[0m \u001b[39mif\u001b[39;00m randomize \u001b[39mis\u001b[39;00m \u001b[39mnot\u001b[39;00m \u001b[39mNone\u001b[39;00m:\n",
      "\u001b[1;31mTypeError\u001b[0m: Bad graph type, use only non directed graph"
     ]
    }
   ],
   "source": [
    "# visualizing the directed backbone network\n",
    "for graph, year in zip(directed_backbone_graphs, migration_years):\n",
    "    visualize_graph(graph, nodes_df, year)\n",
    "    "
   ]
  },
  {
   "cell_type": "code",
   "execution_count": 6,
   "metadata": {},
   "outputs": [
    {
     "ename": "KeyError",
     "evalue": "'weight'",
     "output_type": "error",
     "traceback": [
      "\u001b[1;31m---------------------------------------------------------------------------\u001b[0m",
      "\u001b[1;31mKeyError\u001b[0m                                  Traceback (most recent call last)",
      "\u001b[1;32mc:\\Users\\PA\\Documents\\Austria\\CEU\\3rd Semester\\Social Networks\\Project\\Social-Net-Project\\Directed- Unweighted Graph\\BB gaphs.ipynb Cell 8\u001b[0m line \u001b[0;36m2\n\u001b[0;32m     <a href='vscode-notebook-cell:/c%3A/Users/PA/Documents/Austria/CEU/3rd%20Semester/Social%20Networks/Project/Social-Net-Project/Directed-%20Unweighted%20Graph/BB%20gaphs.ipynb#X10sZmlsZQ%3D%3D?line=25'>26</a>\u001b[0m     plt\u001b[39m.\u001b[39mshow()\n\u001b[0;32m     <a href='vscode-notebook-cell:/c%3A/Users/PA/Documents/Austria/CEU/3rd%20Semester/Social%20Networks/Project/Social-Net-Project/Directed-%20Unweighted%20Graph/BB%20gaphs.ipynb#X10sZmlsZQ%3D%3D?line=27'>28</a>\u001b[0m \u001b[39m# Visualize the first backbone network\u001b[39;00m\n\u001b[1;32m---> <a href='vscode-notebook-cell:/c%3A/Users/PA/Documents/Austria/CEU/3rd%20Semester/Social%20Networks/Project/Social-Net-Project/Directed-%20Unweighted%20Graph/BB%20gaphs.ipynb#X10sZmlsZQ%3D%3D?line=28'>29</a>\u001b[0m visualize_backbone_graph(directed_backbone_graphs[\u001b[39m0\u001b[39;49m], nodes_df, \u001b[39m\"\u001b[39;49m\u001b[39mBackbone Network - Migration 1995\u001b[39;49m\u001b[39m\"\u001b[39;49m)\n",
      "\u001b[1;32mc:\\Users\\PA\\Documents\\Austria\\CEU\\3rd Semester\\Social Networks\\Project\\Social-Net-Project\\Directed- Unweighted Graph\\BB gaphs.ipynb Cell 8\u001b[0m line \u001b[0;36m7\n\u001b[0;32m      <a href='vscode-notebook-cell:/c%3A/Users/PA/Documents/Austria/CEU/3rd%20Semester/Social%20Networks/Project/Social-Net-Project/Directed-%20Unweighted%20Graph/BB%20gaphs.ipynb#X10sZmlsZQ%3D%3D?line=3'>4</a>\u001b[0m \u001b[39mdef\u001b[39;00m \u001b[39mvisualize_backbone_graph\u001b[39m(graph, nodes_df, title):\n\u001b[0;32m      <a href='vscode-notebook-cell:/c%3A/Users/PA/Documents/Austria/CEU/3rd%20Semester/Social%20Networks/Project/Social-Net-Project/Directed-%20Unweighted%20Graph/BB%20gaphs.ipynb#X10sZmlsZQ%3D%3D?line=4'>5</a>\u001b[0m     \u001b[39m# Calculate node sizes based on degree and weight\u001b[39;00m\n\u001b[0;32m      <a href='vscode-notebook-cell:/c%3A/Users/PA/Documents/Austria/CEU/3rd%20Semester/Social%20Networks/Project/Social-Net-Project/Directed-%20Unweighted%20Graph/BB%20gaphs.ipynb#X10sZmlsZQ%3D%3D?line=5'>6</a>\u001b[0m     node_sizes \u001b[39m=\u001b[39m [graph\u001b[39m.\u001b[39mdegree(n, weight\u001b[39m=\u001b[39m\u001b[39m'\u001b[39m\u001b[39mweight\u001b[39m\u001b[39m'\u001b[39m)\u001b[39m/\u001b[39m\u001b[39m5000\u001b[39m \u001b[39mfor\u001b[39;00m n \u001b[39min\u001b[39;00m graph\u001b[39m.\u001b[39mnodes()]\n\u001b[1;32m----> <a href='vscode-notebook-cell:/c%3A/Users/PA/Documents/Austria/CEU/3rd%20Semester/Social%20Networks/Project/Social-Net-Project/Directed-%20Unweighted%20Graph/BB%20gaphs.ipynb#X10sZmlsZQ%3D%3D?line=6'>7</a>\u001b[0m     edge_weights \u001b[39m=\u001b[39m [d[\u001b[39m'\u001b[39m\u001b[39mweight\u001b[39m\u001b[39m'\u001b[39m] \u001b[39m/\u001b[39m \u001b[39m100000\u001b[39m \u001b[39mfor\u001b[39;00m _, _, d \u001b[39min\u001b[39;00m graph\u001b[39m.\u001b[39medges(data\u001b[39m=\u001b[39m\u001b[39mTrue\u001b[39;00m)]\n\u001b[0;32m      <a href='vscode-notebook-cell:/c%3A/Users/PA/Documents/Austria/CEU/3rd%20Semester/Social%20Networks/Project/Social-Net-Project/Directed-%20Unweighted%20Graph/BB%20gaphs.ipynb#X10sZmlsZQ%3D%3D?line=8'>9</a>\u001b[0m     \u001b[39m# Position, size, and labels\u001b[39;00m\n\u001b[0;32m     <a href='vscode-notebook-cell:/c%3A/Users/PA/Documents/Austria/CEU/3rd%20Semester/Social%20Networks/Project/Social-Net-Project/Directed-%20Unweighted%20Graph/BB%20gaphs.ipynb#X10sZmlsZQ%3D%3D?line=9'>10</a>\u001b[0m     node_positions \u001b[39m=\u001b[39m {row[\u001b[39m'\u001b[39m\u001b[39mLabel\u001b[39m\u001b[39m'\u001b[39m]: (row[\u001b[39m'\u001b[39m\u001b[39mlng\u001b[39m\u001b[39m'\u001b[39m], row[\u001b[39m'\u001b[39m\u001b[39mlat\u001b[39m\u001b[39m'\u001b[39m]) \u001b[39mfor\u001b[39;00m index, row \u001b[39min\u001b[39;00m nodes_df\u001b[39m.\u001b[39miterrows() \u001b[39mif\u001b[39;00m row[\u001b[39m'\u001b[39m\u001b[39mLabel\u001b[39m\u001b[39m'\u001b[39m] \u001b[39min\u001b[39;00m graph\u001b[39m.\u001b[39mnodes}\n",
      "\u001b[1;32mc:\\Users\\PA\\Documents\\Austria\\CEU\\3rd Semester\\Social Networks\\Project\\Social-Net-Project\\Directed- Unweighted Graph\\BB gaphs.ipynb Cell 8\u001b[0m line \u001b[0;36m7\n\u001b[0;32m      <a href='vscode-notebook-cell:/c%3A/Users/PA/Documents/Austria/CEU/3rd%20Semester/Social%20Networks/Project/Social-Net-Project/Directed-%20Unweighted%20Graph/BB%20gaphs.ipynb#X10sZmlsZQ%3D%3D?line=3'>4</a>\u001b[0m \u001b[39mdef\u001b[39;00m \u001b[39mvisualize_backbone_graph\u001b[39m(graph, nodes_df, title):\n\u001b[0;32m      <a href='vscode-notebook-cell:/c%3A/Users/PA/Documents/Austria/CEU/3rd%20Semester/Social%20Networks/Project/Social-Net-Project/Directed-%20Unweighted%20Graph/BB%20gaphs.ipynb#X10sZmlsZQ%3D%3D?line=4'>5</a>\u001b[0m     \u001b[39m# Calculate node sizes based on degree and weight\u001b[39;00m\n\u001b[0;32m      <a href='vscode-notebook-cell:/c%3A/Users/PA/Documents/Austria/CEU/3rd%20Semester/Social%20Networks/Project/Social-Net-Project/Directed-%20Unweighted%20Graph/BB%20gaphs.ipynb#X10sZmlsZQ%3D%3D?line=5'>6</a>\u001b[0m     node_sizes \u001b[39m=\u001b[39m [graph\u001b[39m.\u001b[39mdegree(n, weight\u001b[39m=\u001b[39m\u001b[39m'\u001b[39m\u001b[39mweight\u001b[39m\u001b[39m'\u001b[39m)\u001b[39m/\u001b[39m\u001b[39m5000\u001b[39m \u001b[39mfor\u001b[39;00m n \u001b[39min\u001b[39;00m graph\u001b[39m.\u001b[39mnodes()]\n\u001b[1;32m----> <a href='vscode-notebook-cell:/c%3A/Users/PA/Documents/Austria/CEU/3rd%20Semester/Social%20Networks/Project/Social-Net-Project/Directed-%20Unweighted%20Graph/BB%20gaphs.ipynb#X10sZmlsZQ%3D%3D?line=6'>7</a>\u001b[0m     edge_weights \u001b[39m=\u001b[39m [d[\u001b[39m'\u001b[39;49m\u001b[39mweight\u001b[39;49m\u001b[39m'\u001b[39;49m] \u001b[39m/\u001b[39m \u001b[39m100000\u001b[39m \u001b[39mfor\u001b[39;00m _, _, d \u001b[39min\u001b[39;00m graph\u001b[39m.\u001b[39medges(data\u001b[39m=\u001b[39m\u001b[39mTrue\u001b[39;00m)]\n\u001b[0;32m      <a href='vscode-notebook-cell:/c%3A/Users/PA/Documents/Austria/CEU/3rd%20Semester/Social%20Networks/Project/Social-Net-Project/Directed-%20Unweighted%20Graph/BB%20gaphs.ipynb#X10sZmlsZQ%3D%3D?line=8'>9</a>\u001b[0m     \u001b[39m# Position, size, and labels\u001b[39;00m\n\u001b[0;32m     <a href='vscode-notebook-cell:/c%3A/Users/PA/Documents/Austria/CEU/3rd%20Semester/Social%20Networks/Project/Social-Net-Project/Directed-%20Unweighted%20Graph/BB%20gaphs.ipynb#X10sZmlsZQ%3D%3D?line=9'>10</a>\u001b[0m     node_positions \u001b[39m=\u001b[39m {row[\u001b[39m'\u001b[39m\u001b[39mLabel\u001b[39m\u001b[39m'\u001b[39m]: (row[\u001b[39m'\u001b[39m\u001b[39mlng\u001b[39m\u001b[39m'\u001b[39m], row[\u001b[39m'\u001b[39m\u001b[39mlat\u001b[39m\u001b[39m'\u001b[39m]) \u001b[39mfor\u001b[39;00m index, row \u001b[39min\u001b[39;00m nodes_df\u001b[39m.\u001b[39miterrows() \u001b[39mif\u001b[39;00m row[\u001b[39m'\u001b[39m\u001b[39mLabel\u001b[39m\u001b[39m'\u001b[39m] \u001b[39min\u001b[39;00m graph\u001b[39m.\u001b[39mnodes}\n",
      "\u001b[1;31mKeyError\u001b[0m: 'weight'"
     ]
    }
   ],
   "source": [
    "import matplotlib.pyplot as plt\n",
    "import matplotlib.colors as mcolors\n",
    "\n",
    "def visualize_backbone_graph(graph, nodes_df, title):\n",
    "    # Calculate node sizes based on degree and weight\n",
    "    node_sizes = [graph.degree(n, weight='weight')/5000 for n in graph.nodes()]\n",
    "    edge_weights = [d['weight'] / 100000 for _, _, d in graph.edges(data=True)]\n",
    "\n",
    "    # Position, size, and labels\n",
    "    node_positions = {row['Label']: (row['lng'], row['lat']) for index, row in nodes_df.iterrows() if row['Label'] in graph.nodes}\n",
    "    labels = get_high_degree_labels(graph, nodes_df, 200000)\n",
    "\n",
    "    # Edge colors based on female ratio\n",
    "    female_ratios = np.array([d['female_ratio'] for _, _, d in graph.edges(data=True)])\n",
    "    norm = mcolors.Normalize(vmin=female_ratios.min(), vmax=female_ratios.max())\n",
    "    cmap = plt.get_cmap('magma')\n",
    "    edge_colors = [cmap(norm(d['female_ratio'])) for _, _, d in graph.edges(data=True)]\n",
    "\n",
    "    # Visualization\n",
    "    plt.figure(figsize=(15, 10))\n",
    "    nx.draw_networkx_nodes(graph, node_positions, node_size=node_sizes, node_color='red', alpha=0.7)\n",
    "    nx.draw_networkx_edges(graph, node_positions, width=edge_weights, alpha=0.5, edge_color=edge_colors)\n",
    "    nx.draw_networkx_labels(graph, node_positions, labels=labels, font_size=12)\n",
    "    plt.title(title)\n",
    "    plt.colorbar(plt.cm.ScalarMappable(norm=norm, cmap=cmap), ax=plt.gca(), orientation='vertical', label='Female Ratio')\n",
    "    plt.show()\n",
    "\n",
    "# Visualize the first backbone network\n",
    "visualize_backbone_graph(directed_backbone_graphs[0], nodes_df, \"Backbone Network - Migration 1995\")\n"
   ]
  },
  {
   "cell_type": "code",
   "execution_count": null,
   "metadata": {},
   "outputs": [],
   "source": []
  }
 ],
 "metadata": {
  "kernelspec": {
   "display_name": "Python 3",
   "language": "python",
   "name": "python3"
  },
  "language_info": {
   "codemirror_mode": {
    "name": "ipython",
    "version": 3
   },
   "file_extension": ".py",
   "mimetype": "text/x-python",
   "name": "python",
   "nbconvert_exporter": "python",
   "pygments_lexer": "ipython3",
   "version": "3.10.9"
  }
 },
 "nbformat": 4,
 "nbformat_minor": 2
}
