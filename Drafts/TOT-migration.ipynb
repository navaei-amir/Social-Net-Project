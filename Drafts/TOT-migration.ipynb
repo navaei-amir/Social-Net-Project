{
 "cells": [
  {
   "cell_type": "code",
   "execution_count": 1,
   "metadata": {},
   "outputs": [
    {
     "name": "stdout",
     "output_type": "stream",
     "text": [
      "Number of nodes: 232, Number of edges: 11228\n"
     ]
    }
   ],
   "source": [
    "import pandas as pd\n",
    "import networkx as nx\n",
    "\n",
    "# Load the data from the CSV file\n",
    "\n",
    "data = pd.read_csv('migration- total.csv')\n",
    "\n",
    "# Create a directed graph\n",
    "G = nx.DiGraph()\n",
    "\n",
    "# Iterate over the rows of the dataframe and add edges with year-wise attributes\n",
    "for index, row in data.iterrows():\n",
    "    # Source and target nodes\n",
    "    source, target = row['Source'], row['Target']\n",
    "\n",
    "    # Adding nodes (if not already added)\n",
    "    G.add_node(source)\n",
    "    G.add_node(target)\n",
    "\n",
    "    # Adding an edge with year-wise migration data as attributes\n",
    "    G.add_edge(source, target, \n",
    "               weight_1990=row['year 1990'], \n",
    "               weight_1995=row['year 1995'], \n",
    "               weight_2000=row['year 2000'], \n",
    "               weight_2005=row['year 2005'], \n",
    "               weight_2010=row['year 2010'], \n",
    "               weight_2015=row['year 2015'])\n",
    "\n",
    "# Optional: Check the number of nodes and edges in the graph\n",
    "num_nodes = G.number_of_nodes()\n",
    "num_edges = G.number_of_edges()\n",
    "print(f'Number of nodes: {num_nodes}, Number of edges: {num_edges}')\n"
   ]
  },
  {
   "cell_type": "code",
   "execution_count": 4,
   "metadata": {},
   "outputs": [
    {
     "data": {
      "text/plain": [
       "{'weight_1990': 144183352,\n",
       " 'weight_1995': 152646765,\n",
       " 'weight_2000': 164748597,\n",
       " 'weight_2005': 182416026,\n",
       " 'weight_2010': 211672392,\n",
       " 'weight_2015': 233916692}"
      ]
     },
     "execution_count": 4,
     "metadata": {},
     "output_type": "execute_result"
    }
   ],
   "source": [
    "# Recalculating Migration Trends Over the Years\n",
    "\n",
    "# Correcting the dictionary keys to match the attribute names\n",
    "migration_trends_corrected = {\n",
    "    'weight_1990': 0, \n",
    "    'weight_1995': 0, \n",
    "    'weight_2000': 0, \n",
    "    'weight_2005': 0, \n",
    "    'weight_2010': 0, \n",
    "    'weight_2015': 0\n",
    "}\n",
    "\n",
    "# Summing the weights of all edges for each year\n",
    "for u, v, attributes in G.edges(data=True):\n",
    "    for year in migration_trends_corrected.keys():\n",
    "        migration_trends_corrected[year] += attributes.get(year, 0)\n",
    "\n",
    "migration_trends_corrected"
   ]
  },
  {
   "cell_type": "code",
   "execution_count": 5,
   "metadata": {},
   "outputs": [
    {
     "data": {
      "text/plain": [
       "([('Russian Federation', 66732561),\n",
       "  ('India', 60360138),\n",
       "  ('Mexico', 55130355),\n",
       "  ('China', 40220546),\n",
       "  ('Bangladesh', 36022947)],\n",
       " [('United States of America', 198572669),\n",
       "  ('Russian Federation', 69827802),\n",
       "  ('Germany', 55129412),\n",
       "  ('France', 39982477),\n",
       "  ('Saudi Arabia', 39141532)])"
      ]
     },
     "execution_count": 5,
     "metadata": {},
     "output_type": "execute_result"
    }
   ],
   "source": [
    "# Identify Countries with the Highest Inbound or Outbound Migrations\n",
    "\n",
    "# Initializing dictionaries to store total outbound and inbound migrations for each country\n",
    "outbound_migration = {node: 0 for node in G.nodes()}\n",
    "inbound_migration = {node: 0 for node in G.nodes()}\n",
    "\n",
    "# Calculating total outbound migration\n",
    "for u, v, attributes in G.edges(data=True):\n",
    "    total_migration = sum(attributes.values())  # Sum of migration counts for all years\n",
    "    outbound_migration[u] += total_migration\n",
    "\n",
    "# Calculating total inbound migration\n",
    "for u, v, attributes in G.edges(data=True):\n",
    "    total_migration = sum(attributes.values())\n",
    "    inbound_migration[v] += total_migration\n",
    "\n",
    "# Identifying the top countries with the highest outbound and inbound migrations\n",
    "top_outbound_countries = sorted(outbound_migration.items(), key=lambda x: x[1], reverse=True)[:5]\n",
    "top_inbound_countries = sorted(inbound_migration.items(), key=lambda x: x[1], reverse=True)[:5]\n",
    "\n",
    "top_outbound_countries, top_inbound_countries\n",
    "\n"
   ]
  },
  {
   "cell_type": "code",
   "execution_count": null,
   "metadata": {},
   "outputs": [],
   "source": []
  }
 ],
 "metadata": {
  "kernelspec": {
   "display_name": "Python 3",
   "language": "python",
   "name": "python3"
  },
  "language_info": {
   "codemirror_mode": {
    "name": "ipython",
    "version": 3
   },
   "file_extension": ".py",
   "mimetype": "text/x-python",
   "name": "python",
   "nbconvert_exporter": "python",
   "pygments_lexer": "ipython3",
   "version": "3.10.9"
  }
 },
 "nbformat": 4,
 "nbformat_minor": 2
}
